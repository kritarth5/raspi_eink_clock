{
 "cells": [
  {
   "cell_type": "code",
   "execution_count": 48,
   "id": "38659db4",
   "metadata": {},
   "outputs": [],
   "source": [
    "#import packages\n",
    "\n",
    "from datetime import  datetime\n",
    "import pytz\n",
    "#from epdconfig import RaspberryPi\n",
    "#import epd2in7\n",
    "from PIL import Image\n",
    "from PIL import ImageFont\n",
    "from PIL import ImageDraw\n",
    "\n",
    "import locale\n",
    "import os\n",
    "import time\n",
    "\n",
    "\n",
    "#import RPi.GPIO as GPIO"
   ]
  },
  {
   "cell_type": "code",
   "execution_count": 37,
   "id": "68bc595c",
   "metadata": {},
   "outputs": [],
   "source": [
    "###################\n",
    "# Define Constant #\n",
    "###################\n",
    "\n",
    "DATEFORMAT = \"%a %x\"\n",
    "TIMEFORMAT = \"%H:%M\"\n",
    "#FONT = os.path.join(RES_DIR, 'FreeMono.ttf')\n",
    "#FONTBOLD = os.path.join(RES_DIR, 'FreeMonoBold.ttf')\n",
    "BOUNCETIME = 500\n",
    "\n",
    "#RASPBERRY_BMP_LOGO = os.path.join(RES_DIR, 'raspberry.bmp')\n",
    "\n",
    "PIN_BTN1 = 5\n",
    "PIN_BTN2 = 6\n",
    "PIN_BTN3 = 13\n",
    "PIN_BTN4 = 19\n",
    "\n",
    "DISPMODE_IST = 1\n",
    "DISPMODE_EST = 2\n",
    "DISPMODE_UK = 3\n",
    "# DISPMODE_NOBEL = 4"
   ]
  },
  {
   "cell_type": "code",
   "execution_count": 38,
   "id": "a0a13fb0",
   "metadata": {},
   "outputs": [],
   "source": [
    "###################################\n",
    "# Get all timezones to pass to Pi #\n",
    "###################################\n",
    "def get_time():\n",
    "    \"\"\"\n",
    "    Function to get times from 4 timezones at that second\n",
    "    \"\"\"\n",
    "\n",
    "    #Create format to show time in.\n",
    "    format = \"%a %I %M %S %p\"\n",
    "\n",
    "    #Set timezones for all places\n",
    "    tz_india = pytz.timezone(\"Asia/Kolkata\")\n",
    "    tz_pacific = pytz.timezone(\"US/Pacific\")\n",
    "    tz_eastern = pytz.timezone(\"US/Eastern\")\n",
    "    tz_uk = pytz.timezone(\"Europe/London\")\n",
    "\n",
    "    #Save timezones as their own variables\n",
    "    time_india = datetime.now(tz= tz_india).strftime(format)\n",
    "    time_pacific = datetime.now(tz= tz_pacific).strftime(format)\n",
    "    time_eastern = datetime.now(tz= tz_eastern).strftime(format)\n",
    "    time_uk = datetime.now(tz= tz_uk).strftime(format)\n",
    "    \n",
    "    return time_india,time_pacific, time_eastern, time_uk\n"
   ]
  },
  {
   "cell_type": "code",
   "execution_count": 39,
   "id": "922422f2",
   "metadata": {},
   "outputs": [],
   "source": [
    ", time_pacific, , time_uk = get_time()\n"
   ]
  },
  {
   "cell_type": "code",
   "execution_count": 41,
   "id": "93e1435c",
   "metadata": {},
   "outputs": [
    {
     "data": {
      "text/plain": [
       "'Sat 09 33 35 AM'"
      ]
     },
     "execution_count": 41,
     "metadata": {},
     "output_type": "execute_result"
    }
   ],
   "source": [
    "time_eastern"
   ]
  },
  {
   "cell_type": "markdown",
   "id": "b96c21e2",
   "metadata": {},
   "source": [
    "Wrap Everything in a class that takes  button inputs\n",
    "1. draw_ist_data():Write a function to draw EST Time \n",
    "2. draw_est_data(): Write a function to draw IST Time\n",
    "3. draw_uk_data(): Write a function to draw UK Time\n",
    "4. Edit the Display class\n",
    "    - Edit the initialise function\n",
    "        - come back to fonts later\n",
    "    - Edit the start function. \n",
    "        - Have different display modes for UK time, EST time and IND time.\n"
   ]
  },
  {
   "cell_type": "code",
   "execution_count": null,
   "id": "e0bff623",
   "metadata": {},
   "outputs": [],
   "source": []
  },
  {
   "cell_type": "code",
   "execution_count": null,
   "id": "482c14a9",
   "metadata": {},
   "outputs": [],
   "source": []
  },
  {
   "cell_type": "code",
   "execution_count": 45,
   "id": "4df2fbb5",
   "metadata": {},
   "outputs": [],
   "source": [
    "######################################\n",
    "# Wrap everything in a Display Class #\n",
    "######################################\n",
    "\n",
    "class Display:\n",
    "    \"\"\"\n",
    "    Define a class called display to wrap all display related functions\n",
    "    \"\"\"\n",
    "    \n",
    "    #initialise these to None? idk why.\n",
    "    epd = None\n",
    "    fonts = None\n",
    "    #set initial mode. This should be India Time.\n",
    "    mode = DISPMODE_IND\n",
    "    \n",
    "    #this should be removed.\n",
    "    nobeldata = None\n",
    "    \n",
    "    def __init__(self):\n",
    "        \"\"\"\n",
    "        Initialize the damn thing\n",
    "        \"\"\"\n",
    "        \n",
    "        #this does something about setting where you are. Leave as is for now.\n",
    "        locale.setlocale(locale.LC_ALL, '')\n",
    "        \n",
    "        #This sets font's for all the clock faces we want. Set them to be the same for now.\n",
    "        self.fonts = Fonts(timefont_size = 50, datefont_size = 50, infofont_size = 18, smallfont_size=16)\n",
    "\n",
    "        #initialise the epd2in7's package's function in epd method\n",
    "        self.epd = epd2in7.EPD()\n",
    "        self.epd.init()\n",
    "        \n",
    "        #read button input on the raspberry pi\n",
    "        self.read_buttons()\n",
    "    \n",
    "      def start(self, start_mode = DISPMODE_IST):\n",
    "            \"\"\"\n",
    "            This function initialises the clock which keeps updating\n",
    "            \"\"\"\n",
    "            self.mode = start_mode\n",
    "            \n",
    "            while True:\n",
    "                if DISPMODE_IST == self.mode:\n",
    "                    self.draw_ist_data()\n",
    "                elif DISPMODE_EST == self.mode:\n",
    "                    self.draw_est_data()\n",
    "                elif DISPMODE_UK == self.mode: \n",
    "                    self.draw_uk_data()\n",
    "                else:\n",
    "                    self.mode = DISPMODE_IST\n",
    "                    self.draw_ist_data()\n",
    "                self.sleep_until_next_min()\n",
    "    \n",
    "    \n",
    "    \n",
    "        \n",
    "    \n",
    "       def sleep_until_next_min(self):\n",
    "            now = datetime.now()\n",
    "            seconds_until_next_minute = 60 - now.time().second\n",
    "            time.sleep(seconds_until_next_minute)\n",
    "    \n",
    "    "
   ]
  },
  {
   "cell_type": "code",
   "execution_count": null,
   "id": "9f1e5a31",
   "metadata": {},
   "outputs": [],
   "source": []
  },
  {
   "cell_type": "code",
   "execution_count": null,
   "id": "b696fb66",
   "metadata": {},
   "outputs": [],
   "source": []
  },
  {
   "cell_type": "code",
   "execution_count": null,
   "id": "9556c816",
   "metadata": {},
   "outputs": [],
   "source": []
  },
  {
   "cell_type": "code",
   "execution_count": null,
   "id": "51af6039",
   "metadata": {},
   "outputs": [],
   "source": []
  }
 ],
 "metadata": {
  "kernelspec": {
   "display_name": "Python 3 (ipykernel)",
   "language": "python",
   "name": "python3"
  },
  "language_info": {
   "codemirror_mode": {
    "name": "ipython",
    "version": 3
   },
   "file_extension": ".py",
   "mimetype": "text/x-python",
   "name": "python",
   "nbconvert_exporter": "python",
   "pygments_lexer": "ipython3",
   "version": "3.10.5"
  }
 },
 "nbformat": 4,
 "nbformat_minor": 5
}
